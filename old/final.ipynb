{
 "cells": [
  {
   "cell_type": "code",
   "execution_count": 3,
   "id": "a320203a-e516-4387-8b3d-96cdcd6f142d",
   "metadata": {},
   "outputs": [],
   "source": [
    "import pandas as pd\n",
    "import warnings\n",
    "warnings.filterwarnings(\"ignore\")\n",
    "import logging\n",
    "logging.basicConfig(level=logging.ERROR)\n",
    "data_dir='D:\\\\_NILESH\\\\dissertation\\\\data\\\\'"
   ]
  },
  {
   "cell_type": "code",
   "execution_count": 7,
   "id": "40fadba9-9faf-47a4-ac59-e7d28927fd49",
   "metadata": {},
   "outputs": [
    {
     "data": {
      "text/html": [
       "<div>\n",
       "<style scoped>\n",
       "    .dataframe tbody tr th:only-of-type {\n",
       "        vertical-align: middle;\n",
       "    }\n",
       "\n",
       "    .dataframe tbody tr th {\n",
       "        vertical-align: top;\n",
       "    }\n",
       "\n",
       "    .dataframe thead th {\n",
       "        text-align: right;\n",
       "    }\n",
       "</style>\n",
       "<table border=\"1\" class=\"dataframe\">\n",
       "  <thead>\n",
       "    <tr style=\"text-align: right;\">\n",
       "      <th></th>\n",
       "      <th>Date_and_Time</th>\n",
       "      <th>X_Coordinates</th>\n",
       "      <th>Y_Coordinates</th>\n",
       "    </tr>\n",
       "  </thead>\n",
       "  <tbody>\n",
       "    <tr>\n",
       "      <th>0</th>\n",
       "      <td>2023-07-01 20:05:53</td>\n",
       "      <td>529.794</td>\n",
       "      <td>206.845</td>\n",
       "    </tr>\n",
       "    <tr>\n",
       "      <th>1</th>\n",
       "      <td>2023-07-01 20:05:53</td>\n",
       "      <td>633.238</td>\n",
       "      <td>222.748</td>\n",
       "    </tr>\n",
       "    <tr>\n",
       "      <th>2</th>\n",
       "      <td>2023-07-01 20:05:53</td>\n",
       "      <td>667.231</td>\n",
       "      <td>285.498</td>\n",
       "    </tr>\n",
       "  </tbody>\n",
       "</table>\n",
       "</div>"
      ],
      "text/plain": [
       "         Date_and_Time  X_Coordinates  Y_Coordinates\n",
       "0  2023-07-01 20:05:53        529.794        206.845\n",
       "1  2023-07-01 20:05:53        633.238        222.748\n",
       "2  2023-07-01 20:05:53        667.231        285.498"
      ]
     },
     "execution_count": 7,
     "metadata": {},
     "output_type": "execute_result"
    }
   ],
   "source": [
    "sun=pd.read_csv(data_dir+'sunspots.csv')\n",
    "sun"
   ]
  }
 ],
 "metadata": {
  "kernelspec": {
   "display_name": "Python 3 (ipykernel)",
   "language": "python",
   "name": "python3"
  },
  "language_info": {
   "codemirror_mode": {
    "name": "ipython",
    "version": 3
   },
   "file_extension": ".py",
   "mimetype": "text/x-python",
   "name": "python",
   "nbconvert_exporter": "python",
   "pygments_lexer": "ipython3",
   "version": "3.9.13"
  },
  "widgets": {
   "application/vnd.jupyter.widget-state+json": {
    "state": {},
    "version_major": 2,
    "version_minor": 0
   }
  }
 },
 "nbformat": 4,
 "nbformat_minor": 5
}
